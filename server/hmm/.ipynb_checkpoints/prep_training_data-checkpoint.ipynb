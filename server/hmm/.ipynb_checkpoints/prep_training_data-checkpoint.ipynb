{
 "cells": [
  {
   "cell_type": "code",
   "execution_count": 1,
   "metadata": {
    "collapsed": true
   },
   "outputs": [],
   "source": [
    "import pandas as pd"
   ]
  },
  {
   "cell_type": "code",
   "execution_count": 12,
   "metadata": {},
   "outputs": [],
   "source": [
    "users =pd.read_csv('content_polluters.txt', sep='\\t', lineterminator='\\n', header=None)"
   ]
  },
  {
   "cell_type": "code",
   "execution_count": 13,
   "metadata": {},
   "outputs": [
    {
     "data": {
      "text/html": [
       "<div>\n",
       "<style scoped>\n",
       "    .dataframe tbody tr th:only-of-type {\n",
       "        vertical-align: middle;\n",
       "    }\n",
       "\n",
       "    .dataframe tbody tr th {\n",
       "        vertical-align: top;\n",
       "    }\n",
       "\n",
       "    .dataframe thead th {\n",
       "        text-align: right;\n",
       "    }\n",
       "</style>\n",
       "<table border=\"1\" class=\"dataframe\">\n",
       "  <thead>\n",
       "    <tr style=\"text-align: right;\">\n",
       "      <th></th>\n",
       "      <th>6301</th>\n",
       "      <th>2006-09-18 01:07:50</th>\n",
       "      <th>2010-01-17 20:38:25</th>\n",
       "      <th>3269</th>\n",
       "      <th>3071</th>\n",
       "      <th>861</th>\n",
       "      <th>8</th>\n",
       "      <th>132</th>\n",
       "    </tr>\n",
       "  </thead>\n",
       "  <tbody>\n",
       "    <tr>\n",
       "      <th>0</th>\n",
       "      <td>10836</td>\n",
       "      <td>2006-10-27 14:38:04</td>\n",
       "      <td>2010-06-18 03:35:34</td>\n",
       "      <td>1949</td>\n",
       "      <td>793</td>\n",
       "      <td>226</td>\n",
       "      <td>9</td>\n",
       "      <td>134</td>\n",
       "    </tr>\n",
       "    <tr>\n",
       "      <th>1</th>\n",
       "      <td>10997</td>\n",
       "      <td>2006-10-29 09:50:38</td>\n",
       "      <td>2010-04-24 01:12:40</td>\n",
       "      <td>1119</td>\n",
       "      <td>9644</td>\n",
       "      <td>38674</td>\n",
       "      <td>12</td>\n",
       "      <td>158</td>\n",
       "    </tr>\n",
       "    <tr>\n",
       "      <th>2</th>\n",
       "      <td>633293</td>\n",
       "      <td>2007-01-14 12:40:10</td>\n",
       "      <td>2010-01-24 11:59:38</td>\n",
       "      <td>2174</td>\n",
       "      <td>6029</td>\n",
       "      <td>12718</td>\n",
       "      <td>11</td>\n",
       "      <td>121</td>\n",
       "    </tr>\n",
       "    <tr>\n",
       "      <th>3</th>\n",
       "      <td>717883</td>\n",
       "      <td>2007-01-27 22:14:18</td>\n",
       "      <td>2010-02-06 06:25:58</td>\n",
       "      <td>7731</td>\n",
       "      <td>7029</td>\n",
       "      <td>873</td>\n",
       "      <td>6</td>\n",
       "      <td>70</td>\n",
       "    </tr>\n",
       "    <tr>\n",
       "      <th>4</th>\n",
       "      <td>763068</td>\n",
       "      <td>2007-02-10 10:51:38</td>\n",
       "      <td>2010-07-26 04:48:03</td>\n",
       "      <td>120</td>\n",
       "      <td>130</td>\n",
       "      <td>686</td>\n",
       "      <td>6</td>\n",
       "      <td>35</td>\n",
       "    </tr>\n",
       "  </tbody>\n",
       "</table>\n",
       "</div>"
      ],
      "text/plain": [
       "     6301  2006-09-18 01:07:50  2010-01-17 20:38:25  3269  3071    861   8  \\\n",
       "0   10836  2006-10-27 14:38:04  2010-06-18 03:35:34  1949   793    226   9   \n",
       "1   10997  2006-10-29 09:50:38  2010-04-24 01:12:40  1119  9644  38674  12   \n",
       "2  633293  2007-01-14 12:40:10  2010-01-24 11:59:38  2174  6029  12718  11   \n",
       "3  717883  2007-01-27 22:14:18  2010-02-06 06:25:58  7731  7029    873   6   \n",
       "4  763068  2007-02-10 10:51:38  2010-07-26 04:48:03   120   130    686   6   \n",
       "\n",
       "   132\\r  \n",
       "0    134  \n",
       "1    158  \n",
       "2    121  \n",
       "3     70  \n",
       "4     35  "
      ]
     },
     "execution_count": 13,
     "metadata": {},
     "output_type": "execute_result"
    }
   ],
   "source": [
    "users.head()"
   ]
  },
  {
   "cell_type": "code",
   "execution_count": null,
   "metadata": {
    "collapsed": true
   },
   "outputs": [],
   "source": []
  }
 ],
 "metadata": {
  "kernelspec": {
   "display_name": "Python 3",
   "language": "python",
   "name": "python3"
  },
  "language_info": {
   "codemirror_mode": {
    "name": "ipython",
    "version": 3
   },
   "file_extension": ".py",
   "mimetype": "text/x-python",
   "name": "python",
   "nbconvert_exporter": "python",
   "pygments_lexer": "ipython3",
   "version": "3.6.3"
  }
 },
 "nbformat": 4,
 "nbformat_minor": 2
}
