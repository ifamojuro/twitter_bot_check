{
 "cells": [
  {
   "cell_type": "code",
   "execution_count": 1,
   "metadata": {
    "collapsed": true
   },
   "outputs": [],
   "source": [
    "import pandas as pd\n",
    "from sklearn.linear_model import LogisticRegression\n",
    "from sklearn.metrics import accuracy_score\n",
    "from sklearn.model_selection import train_test_split\n",
    "import numpy as np"
   ]
  },
  {
   "cell_type": "code",
   "execution_count": 2,
   "metadata": {
    "collapsed": true
   },
   "outputs": [],
   "source": [
    "training = pd.read_csv(\"training.csv\")"
   ]
  },
  {
   "cell_type": "code",
   "execution_count": 3,
   "metadata": {},
   "outputs": [
    {
     "data": {
      "text/plain": [
       "Index(['Unnamed: 0', 'user_id', 'created', 'collected', 'following',\n",
       "       'followers', 'num_tweets', 'len_name', 'len_bio', 'bot'],\n",
       "      dtype='object')"
      ]
     },
     "execution_count": 3,
     "metadata": {},
     "output_type": "execute_result"
    }
   ],
   "source": [
    "training.columns"
   ]
  },
  {
   "cell_type": "code",
   "execution_count": 4,
   "metadata": {},
   "outputs": [
    {
     "data": {
      "text/html": [
       "<div>\n",
       "<style scoped>\n",
       "    .dataframe tbody tr th:only-of-type {\n",
       "        vertical-align: middle;\n",
       "    }\n",
       "\n",
       "    .dataframe tbody tr th {\n",
       "        vertical-align: top;\n",
       "    }\n",
       "\n",
       "    .dataframe thead th {\n",
       "        text-align: right;\n",
       "    }\n",
       "</style>\n",
       "<table border=\"1\" class=\"dataframe\">\n",
       "  <thead>\n",
       "    <tr style=\"text-align: right;\">\n",
       "      <th></th>\n",
       "      <th>Unnamed: 0</th>\n",
       "      <th>user_id</th>\n",
       "      <th>created</th>\n",
       "      <th>collected</th>\n",
       "      <th>following</th>\n",
       "      <th>followers</th>\n",
       "      <th>num_tweets</th>\n",
       "      <th>len_name</th>\n",
       "      <th>len_bio</th>\n",
       "      <th>bot</th>\n",
       "    </tr>\n",
       "  </thead>\n",
       "  <tbody>\n",
       "    <tr>\n",
       "      <th>0</th>\n",
       "      <td>4606</td>\n",
       "      <td>48936207</td>\n",
       "      <td>2009-06-20 00:27:33</td>\n",
       "      <td>2010-03-03 14:11:50</td>\n",
       "      <td>1747</td>\n",
       "      <td>730</td>\n",
       "      <td>57</td>\n",
       "      <td>8</td>\n",
       "      <td>86</td>\n",
       "      <td>1</td>\n",
       "    </tr>\n",
       "    <tr>\n",
       "      <th>1</th>\n",
       "      <td>4659</td>\n",
       "      <td>22419996</td>\n",
       "      <td>2009-03-01 17:09:38</td>\n",
       "      <td>2009-11-13 23:46:03</td>\n",
       "      <td>88</td>\n",
       "      <td>24</td>\n",
       "      <td>158</td>\n",
       "      <td>12</td>\n",
       "      <td>14</td>\n",
       "      <td>0</td>\n",
       "    </tr>\n",
       "    <tr>\n",
       "      <th>2</th>\n",
       "      <td>4056</td>\n",
       "      <td>43102283</td>\n",
       "      <td>2009-05-28 07:49:30</td>\n",
       "      <td>2010-05-12 04:01:49</td>\n",
       "      <td>2139</td>\n",
       "      <td>2142</td>\n",
       "      <td>493</td>\n",
       "      <td>9</td>\n",
       "      <td>129</td>\n",
       "      <td>1</td>\n",
       "    </tr>\n",
       "    <tr>\n",
       "      <th>3</th>\n",
       "      <td>14736</td>\n",
       "      <td>68324565</td>\n",
       "      <td>2009-08-23 23:16:49</td>\n",
       "      <td>2009-11-17 19:00:27</td>\n",
       "      <td>11</td>\n",
       "      <td>32</td>\n",
       "      <td>100</td>\n",
       "      <td>10</td>\n",
       "      <td>0</td>\n",
       "      <td>0</td>\n",
       "    </tr>\n",
       "    <tr>\n",
       "      <th>4</th>\n",
       "      <td>2025</td>\n",
       "      <td>15975177</td>\n",
       "      <td>2008-08-24 20:13:13</td>\n",
       "      <td>2009-11-15 14:25:32</td>\n",
       "      <td>348</td>\n",
       "      <td>969</td>\n",
       "      <td>8710</td>\n",
       "      <td>13</td>\n",
       "      <td>151</td>\n",
       "      <td>0</td>\n",
       "    </tr>\n",
       "  </tbody>\n",
       "</table>\n",
       "</div>"
      ],
      "text/plain": [
       "   Unnamed: 0   user_id              created            collected  following  \\\n",
       "0        4606  48936207  2009-06-20 00:27:33  2010-03-03 14:11:50       1747   \n",
       "1        4659  22419996  2009-03-01 17:09:38  2009-11-13 23:46:03         88   \n",
       "2        4056  43102283  2009-05-28 07:49:30  2010-05-12 04:01:49       2139   \n",
       "3       14736  68324565  2009-08-23 23:16:49  2009-11-17 19:00:27         11   \n",
       "4        2025  15975177  2008-08-24 20:13:13  2009-11-15 14:25:32        348   \n",
       "\n",
       "   followers  num_tweets  len_name  len_bio  bot  \n",
       "0        730          57         8       86    1  \n",
       "1         24         158        12       14    0  \n",
       "2       2142         493         9      129    1  \n",
       "3         32         100        10        0    0  \n",
       "4        969        8710        13      151    0  "
      ]
     },
     "execution_count": 4,
     "metadata": {},
     "output_type": "execute_result"
    }
   ],
   "source": [
    "training.head()"
   ]
  },
  {
   "cell_type": "code",
   "execution_count": 5,
   "metadata": {},
   "outputs": [
    {
     "data": {
      "text/plain": [
       "1    22223\n",
       "0    19276\n",
       "Name: bot, dtype: int64"
      ]
     },
     "execution_count": 5,
     "metadata": {},
     "output_type": "execute_result"
    }
   ],
   "source": [
    "training[\"bot\"].value_counts()"
   ]
  },
  {
   "cell_type": "code",
   "execution_count": 6,
   "metadata": {
    "collapsed": true
   },
   "outputs": [],
   "source": [
    "x = training.drop([\"bot\",\"created\",\"collected\", \"Unnamed: 0\"], axis = 1)\n",
    "y = training[\"bot\"]"
   ]
  },
  {
   "cell_type": "code",
   "execution_count": 7,
   "metadata": {
    "collapsed": true
   },
   "outputs": [],
   "source": [
    "train_x, test_x, train_y, test_y = train_test_split(x,y, test_size=0.2, random_state=0)"
   ]
  },
  {
   "cell_type": "code",
   "execution_count": 8,
   "metadata": {},
   "outputs": [
    {
     "name": "stderr",
     "output_type": "stream",
     "text": [
      "C:\\Users\\famoj\\Anaconda3\\lib\\site-packages\\sklearn\\linear_model\\logistic.py:433: FutureWarning: Default solver will be changed to 'lbfgs' in 0.22. Specify a solver to silence this warning.\n",
      "  FutureWarning)\n",
      "C:\\Users\\famoj\\Anaconda3\\lib\\site-packages\\sklearn\\linear_model\\logistic.py:433: FutureWarning: Default solver will be changed to 'lbfgs' in 0.22. Specify a solver to silence this warning.\n",
      "  FutureWarning)\n",
      "C:\\Users\\famoj\\Anaconda3\\lib\\site-packages\\sklearn\\linear_model\\logistic.py:433: FutureWarning: Default solver will be changed to 'lbfgs' in 0.22. Specify a solver to silence this warning.\n",
      "  FutureWarning)\n",
      "C:\\Users\\famoj\\Anaconda3\\lib\\site-packages\\sklearn\\linear_model\\logistic.py:433: FutureWarning: Default solver will be changed to 'lbfgs' in 0.22. Specify a solver to silence this warning.\n",
      "  FutureWarning)\n"
     ]
    }
   ],
   "source": [
    "from sklearn.feature_selection import RFE\n",
    "from sklearn.linear_model import LogisticRegression\n",
    "\n",
    "num_features=3\n",
    "lr = LogisticRegression()\n",
    "feat = RFE(lr, num_features)\n",
    "feat = feat.fit(train_x,train_y.values.ravel())"
   ]
  },
  {
   "cell_type": "code",
   "execution_count": 9,
   "metadata": {
    "collapsed": true
   },
   "outputs": [],
   "source": [
    "features_selected = list(feat.support_)\n",
    "pos_features = list(train_x.columns)\n",
    "selected = [feat for feat,rate in zip(pos_features,features_selected) if rate]"
   ]
  },
  {
   "cell_type": "code",
   "execution_count": 10,
   "metadata": {},
   "outputs": [
    {
     "data": {
      "text/plain": [
       "['following', 'num_tweets', 'len_name']"
      ]
     },
     "execution_count": 10,
     "metadata": {},
     "output_type": "execute_result"
    }
   ],
   "source": [
    "selected"
   ]
  },
  {
   "cell_type": "code",
   "execution_count": 11,
   "metadata": {
    "collapsed": true
   },
   "outputs": [],
   "source": [
    "train_y = pd.DataFrame(data=train_y, columns=['bot'])"
   ]
  },
  {
   "cell_type": "code",
   "execution_count": 12,
   "metadata": {
    "collapsed": true
   },
   "outputs": [],
   "source": [
    "final_x = train_x[selected]\n",
    "final_y = train_y['bot']"
   ]
  },
  {
   "cell_type": "code",
   "execution_count": 13,
   "metadata": {
    "scrolled": true
   },
   "outputs": [
    {
     "name": "stderr",
     "output_type": "stream",
     "text": [
      "C:\\Users\\famoj\\Anaconda3\\lib\\site-packages\\statsmodels\\compat\\pandas.py:56: FutureWarning: The pandas.core.datetools module is deprecated and will be removed in a future version. Please use the pandas.tseries module instead.\n",
      "  from pandas.core import datetools\n"
     ]
    },
    {
     "name": "stdout",
     "output_type": "stream",
     "text": [
      "Optimization terminated successfully.\n",
      "         Current function value: 0.533690\n",
      "         Iterations 8\n",
      "                         Results: Logit\n",
      "=================================================================\n",
      "Model:              Logit            Pseudo R-squared: 0.227     \n",
      "Dependent Variable: bot              AIC:              35441.9618\n",
      "Date:               2019-08-08 09:59 BIC:              35467.1927\n",
      "No. Observations:   33199            Log-Likelihood:   -17718.   \n",
      "Df Model:           2                LL-Null:          -22921.   \n",
      "Df Residuals:       33196            LLR p-value:      0.0000    \n",
      "Converged:          1.0000           Scale:            1.0000    \n",
      "No. Iterations:     8.0000                                       \n",
      "------------------------------------------------------------------\n",
      "              Coef.   Std.Err.     z      P>|z|    [0.025   0.975]\n",
      "------------------------------------------------------------------\n",
      "following     0.0014    0.0000   61.5301  0.0000   0.0014   0.0015\n",
      "num_tweets   -0.0004    0.0000  -48.6076  0.0000  -0.0004  -0.0004\n",
      "len_name     -0.0194    0.0014  -13.6098  0.0000  -0.0222  -0.0166\n",
      "=================================================================\n",
      "\n"
     ]
    }
   ],
   "source": [
    "import statsmodels.api as sm\n",
    "model=sm.Logit(final_y,final_x)\n",
    "result=model.fit()\n",
    "print(result.summary2())"
   ]
  },
  {
   "cell_type": "code",
   "execution_count": 14,
   "metadata": {},
   "outputs": [
    {
     "name": "stderr",
     "output_type": "stream",
     "text": [
      "C:\\Users\\famoj\\Anaconda3\\lib\\site-packages\\sklearn\\linear_model\\logistic.py:433: FutureWarning: Default solver will be changed to 'lbfgs' in 0.22. Specify a solver to silence this warning.\n",
      "  FutureWarning)\n"
     ]
    },
    {
     "data": {
      "text/plain": [
       "LogisticRegression(C=1.0, class_weight=None, dual=False, fit_intercept=True,\n",
       "          intercept_scaling=1, max_iter=100, multi_class='warn',\n",
       "          n_jobs=None, penalty='l2', random_state=None, solver='warn',\n",
       "          tol=0.0001, verbose=0, warm_start=False)"
      ]
     },
     "execution_count": 14,
     "metadata": {},
     "output_type": "execute_result"
    }
   ],
   "source": [
    "#now make the model\n",
    "regres = LogisticRegression()\n",
    "regres.fit(final_x, final_y)"
   ]
  },
  {
   "cell_type": "code",
   "execution_count": 15,
   "metadata": {
    "collapsed": true
   },
   "outputs": [],
   "source": [
    "final_test_x = test_x[selected]\n",
    "predicted_probs=regres.predict(final_test_x)"
   ]
  },
  {
   "cell_type": "code",
   "execution_count": 16,
   "metadata": {},
   "outputs": [
    {
     "data": {
      "text/plain": [
       "array([0, 0, 1, ..., 1, 1, 1], dtype=int64)"
      ]
     },
     "execution_count": 16,
     "metadata": {},
     "output_type": "execute_result"
    }
   ],
   "source": [
    "predicted_probs"
   ]
  },
  {
   "cell_type": "code",
   "execution_count": 17,
   "metadata": {
    "collapsed": true
   },
   "outputs": [],
   "source": [
    "from sklearn.metrics import confusion_matrix, classification_report"
   ]
  },
  {
   "cell_type": "code",
   "execution_count": 18,
   "metadata": {},
   "outputs": [
    {
     "data": {
      "text/plain": [
       "array([[3590,  314],\n",
       "       [ 868, 3528]], dtype=int64)"
      ]
     },
     "execution_count": 18,
     "metadata": {},
     "output_type": "execute_result"
    }
   ],
   "source": [
    "confusion_matrix(test_y, predicted_probs)"
   ]
  },
  {
   "cell_type": "code",
   "execution_count": 19,
   "metadata": {},
   "outputs": [
    {
     "data": {
      "text/plain": [
       "8300"
      ]
     },
     "execution_count": 19,
     "metadata": {},
     "output_type": "execute_result"
    }
   ],
   "source": [
    "len(test_y)"
   ]
  },
  {
   "cell_type": "code",
   "execution_count": 20,
   "metadata": {
    "scrolled": true
   },
   "outputs": [
    {
     "data": {
      "text/plain": [
       "0.8575903614457832"
      ]
     },
     "execution_count": 20,
     "metadata": {},
     "output_type": "execute_result"
    }
   ],
   "source": [
    "(3590 + 3528)/8300"
   ]
  },
  {
   "cell_type": "code",
   "execution_count": null,
   "metadata": {
    "collapsed": true
   },
   "outputs": [],
   "source": [
    "#85% accuracy"
   ]
  },
  {
   "cell_type": "code",
   "execution_count": 21,
   "metadata": {
    "collapsed": true
   },
   "outputs": [],
   "source": [
    "loye_data = pd.read_csv(\"Loye_data.csv\")"
   ]
  },
  {
   "cell_type": "code",
   "execution_count": 22,
   "metadata": {},
   "outputs": [
    {
     "data": {
      "text/plain": [
       "Index(['Unnamed: 0', 'following', 'len_name', 'num_tweets', 'screen_name'], dtype='object')"
      ]
     },
     "execution_count": 22,
     "metadata": {},
     "output_type": "execute_result"
    }
   ],
   "source": [
    "loye_data.columns"
   ]
  },
  {
   "cell_type": "code",
   "execution_count": 24,
   "metadata": {
    "collapsed": true
   },
   "outputs": [],
   "source": [
    "loye_predict = loye_data[selected]\n",
    "loye_probs=regres.predict(loye_predict)"
   ]
  },
  {
   "cell_type": "code",
   "execution_count": 26,
   "metadata": {},
   "outputs": [],
   "source": [
    "loye_data[\"pred\"] = loye_probs"
   ]
  },
  {
   "cell_type": "code",
   "execution_count": 27,
   "metadata": {},
   "outputs": [
    {
     "data": {
      "text/html": [
       "<div>\n",
       "<style scoped>\n",
       "    .dataframe tbody tr th:only-of-type {\n",
       "        vertical-align: middle;\n",
       "    }\n",
       "\n",
       "    .dataframe tbody tr th {\n",
       "        vertical-align: top;\n",
       "    }\n",
       "\n",
       "    .dataframe thead th {\n",
       "        text-align: right;\n",
       "    }\n",
       "</style>\n",
       "<table border=\"1\" class=\"dataframe\">\n",
       "  <thead>\n",
       "    <tr style=\"text-align: right;\">\n",
       "      <th></th>\n",
       "      <th>Unnamed: 0</th>\n",
       "      <th>following</th>\n",
       "      <th>len_name</th>\n",
       "      <th>num_tweets</th>\n",
       "      <th>screen_name</th>\n",
       "      <th>pred</th>\n",
       "    </tr>\n",
       "  </thead>\n",
       "  <tbody>\n",
       "    <tr>\n",
       "      <th>0</th>\n",
       "      <td>0</td>\n",
       "      <td>1216</td>\n",
       "      <td>11</td>\n",
       "      <td>76808</td>\n",
       "      <td>Feliciaaa_O</td>\n",
       "      <td>0</td>\n",
       "    </tr>\n",
       "    <tr>\n",
       "      <th>1</th>\n",
       "      <td>1</td>\n",
       "      <td>675</td>\n",
       "      <td>15</td>\n",
       "      <td>25223</td>\n",
       "      <td>CandaceTheAngel</td>\n",
       "      <td>0</td>\n",
       "    </tr>\n",
       "    <tr>\n",
       "      <th>2</th>\n",
       "      <td>2</td>\n",
       "      <td>1779</td>\n",
       "      <td>14</td>\n",
       "      <td>52009</td>\n",
       "      <td>subomiplumptre</td>\n",
       "      <td>0</td>\n",
       "    </tr>\n",
       "    <tr>\n",
       "      <th>3</th>\n",
       "      <td>3</td>\n",
       "      <td>674</td>\n",
       "      <td>13</td>\n",
       "      <td>30987</td>\n",
       "      <td>zachyofficial</td>\n",
       "      <td>0</td>\n",
       "    </tr>\n",
       "    <tr>\n",
       "      <th>4</th>\n",
       "      <td>4</td>\n",
       "      <td>667</td>\n",
       "      <td>6</td>\n",
       "      <td>36703</td>\n",
       "      <td>rabois</td>\n",
       "      <td>0</td>\n",
       "    </tr>\n",
       "    <tr>\n",
       "      <th>5</th>\n",
       "      <td>5</td>\n",
       "      <td>5300</td>\n",
       "      <td>15</td>\n",
       "      <td>19956</td>\n",
       "      <td>_DanielSinclair</td>\n",
       "      <td>0</td>\n",
       "    </tr>\n",
       "    <tr>\n",
       "      <th>6</th>\n",
       "      <td>6</td>\n",
       "      <td>762</td>\n",
       "      <td>9</td>\n",
       "      <td>46316</td>\n",
       "      <td>OkiLegend</td>\n",
       "      <td>0</td>\n",
       "    </tr>\n",
       "    <tr>\n",
       "      <th>7</th>\n",
       "      <td>7</td>\n",
       "      <td>292</td>\n",
       "      <td>13</td>\n",
       "      <td>3287</td>\n",
       "      <td>MakingCentsPC</td>\n",
       "      <td>0</td>\n",
       "    </tr>\n",
       "    <tr>\n",
       "      <th>8</th>\n",
       "      <td>8</td>\n",
       "      <td>101</td>\n",
       "      <td>10</td>\n",
       "      <td>13167</td>\n",
       "      <td>Nia__imani</td>\n",
       "      <td>0</td>\n",
       "    </tr>\n",
       "    <tr>\n",
       "      <th>9</th>\n",
       "      <td>9</td>\n",
       "      <td>327</td>\n",
       "      <td>11</td>\n",
       "      <td>129338</td>\n",
       "      <td>brainpicker</td>\n",
       "      <td>0</td>\n",
       "    </tr>\n",
       "    <tr>\n",
       "      <th>10</th>\n",
       "      <td>10</td>\n",
       "      <td>100</td>\n",
       "      <td>11</td>\n",
       "      <td>4548</td>\n",
       "      <td>Slum2School</td>\n",
       "      <td>0</td>\n",
       "    </tr>\n",
       "    <tr>\n",
       "      <th>11</th>\n",
       "      <td>11</td>\n",
       "      <td>43</td>\n",
       "      <td>8</td>\n",
       "      <td>117</td>\n",
       "      <td>itsnemie</td>\n",
       "      <td>0</td>\n",
       "    </tr>\n",
       "    <tr>\n",
       "      <th>12</th>\n",
       "      <td>12</td>\n",
       "      <td>486</td>\n",
       "      <td>12</td>\n",
       "      <td>80859</td>\n",
       "      <td>wildhormoans</td>\n",
       "      <td>0</td>\n",
       "    </tr>\n",
       "    <tr>\n",
       "      <th>13</th>\n",
       "      <td>13</td>\n",
       "      <td>1259</td>\n",
       "      <td>6</td>\n",
       "      <td>3079</td>\n",
       "      <td>temite</td>\n",
       "      <td>1</td>\n",
       "    </tr>\n",
       "    <tr>\n",
       "      <th>14</th>\n",
       "      <td>14</td>\n",
       "      <td>43</td>\n",
       "      <td>10</td>\n",
       "      <td>2298</td>\n",
       "      <td>glory_osei</td>\n",
       "      <td>0</td>\n",
       "    </tr>\n",
       "    <tr>\n",
       "      <th>15</th>\n",
       "      <td>15</td>\n",
       "      <td>2637</td>\n",
       "      <td>9</td>\n",
       "      <td>9162</td>\n",
       "      <td>CJFDillow</td>\n",
       "      <td>1</td>\n",
       "    </tr>\n",
       "    <tr>\n",
       "      <th>16</th>\n",
       "      <td>16</td>\n",
       "      <td>671</td>\n",
       "      <td>7</td>\n",
       "      <td>22133</td>\n",
       "      <td>busanga</td>\n",
       "      <td>0</td>\n",
       "    </tr>\n",
       "    <tr>\n",
       "      <th>17</th>\n",
       "      <td>17</td>\n",
       "      <td>1283</td>\n",
       "      <td>11</td>\n",
       "      <td>36660</td>\n",
       "      <td>Jaaytunechi</td>\n",
       "      <td>0</td>\n",
       "    </tr>\n",
       "    <tr>\n",
       "      <th>18</th>\n",
       "      <td>18</td>\n",
       "      <td>324</td>\n",
       "      <td>14</td>\n",
       "      <td>736</td>\n",
       "      <td>NigeriaNumeric</td>\n",
       "      <td>0</td>\n",
       "    </tr>\n",
       "    <tr>\n",
       "      <th>19</th>\n",
       "      <td>19</td>\n",
       "      <td>337</td>\n",
       "      <td>11</td>\n",
       "      <td>34270</td>\n",
       "      <td>LALAALAKIJA</td>\n",
       "      <td>0</td>\n",
       "    </tr>\n",
       "    <tr>\n",
       "      <th>20</th>\n",
       "      <td>20</td>\n",
       "      <td>190</td>\n",
       "      <td>9</td>\n",
       "      <td>5957</td>\n",
       "      <td>_KBoateng</td>\n",
       "      <td>0</td>\n",
       "    </tr>\n",
       "    <tr>\n",
       "      <th>21</th>\n",
       "      <td>21</td>\n",
       "      <td>454</td>\n",
       "      <td>8</td>\n",
       "      <td>5282</td>\n",
       "      <td>Bertdora</td>\n",
       "      <td>0</td>\n",
       "    </tr>\n",
       "    <tr>\n",
       "      <th>22</th>\n",
       "      <td>22</td>\n",
       "      <td>968</td>\n",
       "      <td>8</td>\n",
       "      <td>65720</td>\n",
       "      <td>Its_Deji</td>\n",
       "      <td>0</td>\n",
       "    </tr>\n",
       "    <tr>\n",
       "      <th>23</th>\n",
       "      <td>23</td>\n",
       "      <td>297</td>\n",
       "      <td>6</td>\n",
       "      <td>11806</td>\n",
       "      <td>toluL_</td>\n",
       "      <td>0</td>\n",
       "    </tr>\n",
       "    <tr>\n",
       "      <th>24</th>\n",
       "      <td>24</td>\n",
       "      <td>2493</td>\n",
       "      <td>14</td>\n",
       "      <td>26985</td>\n",
       "      <td>dkskinjermaine</td>\n",
       "      <td>0</td>\n",
       "    </tr>\n",
       "    <tr>\n",
       "      <th>25</th>\n",
       "      <td>25</td>\n",
       "      <td>394</td>\n",
       "      <td>15</td>\n",
       "      <td>4562</td>\n",
       "      <td>SophieChandauka</td>\n",
       "      <td>0</td>\n",
       "    </tr>\n",
       "    <tr>\n",
       "      <th>26</th>\n",
       "      <td>26</td>\n",
       "      <td>19444</td>\n",
       "      <td>6</td>\n",
       "      <td>83</td>\n",
       "      <td>pmarca</td>\n",
       "      <td>1</td>\n",
       "    </tr>\n",
       "    <tr>\n",
       "      <th>27</th>\n",
       "      <td>27</td>\n",
       "      <td>258</td>\n",
       "      <td>11</td>\n",
       "      <td>47</td>\n",
       "      <td>moni_owoade</td>\n",
       "      <td>1</td>\n",
       "    </tr>\n",
       "    <tr>\n",
       "      <th>28</th>\n",
       "      <td>28</td>\n",
       "      <td>849</td>\n",
       "      <td>13</td>\n",
       "      <td>78214</td>\n",
       "      <td>BaldingsWorld</td>\n",
       "      <td>0</td>\n",
       "    </tr>\n",
       "    <tr>\n",
       "      <th>29</th>\n",
       "      <td>29</td>\n",
       "      <td>285</td>\n",
       "      <td>7</td>\n",
       "      <td>7702</td>\n",
       "      <td>minkyxo</td>\n",
       "      <td>0</td>\n",
       "    </tr>\n",
       "    <tr>\n",
       "      <th>...</th>\n",
       "      <td>...</td>\n",
       "      <td>...</td>\n",
       "      <td>...</td>\n",
       "      <td>...</td>\n",
       "      <td>...</td>\n",
       "      <td>...</td>\n",
       "    </tr>\n",
       "    <tr>\n",
       "      <th>504</th>\n",
       "      <td>504</td>\n",
       "      <td>493</td>\n",
       "      <td>12</td>\n",
       "      <td>3106</td>\n",
       "      <td>Uduak_Ekanem</td>\n",
       "      <td>0</td>\n",
       "    </tr>\n",
       "    <tr>\n",
       "      <th>505</th>\n",
       "      <td>505</td>\n",
       "      <td>268</td>\n",
       "      <td>9</td>\n",
       "      <td>2656</td>\n",
       "      <td>HibsAhmed</td>\n",
       "      <td>0</td>\n",
       "    </tr>\n",
       "    <tr>\n",
       "      <th>506</th>\n",
       "      <td>506</td>\n",
       "      <td>422</td>\n",
       "      <td>15</td>\n",
       "      <td>8407</td>\n",
       "      <td>officialtemibtm</td>\n",
       "      <td>0</td>\n",
       "    </tr>\n",
       "    <tr>\n",
       "      <th>507</th>\n",
       "      <td>507</td>\n",
       "      <td>3</td>\n",
       "      <td>12</td>\n",
       "      <td>1676</td>\n",
       "      <td>ChiliPeppers</td>\n",
       "      <td>0</td>\n",
       "    </tr>\n",
       "    <tr>\n",
       "      <th>508</th>\n",
       "      <td>508</td>\n",
       "      <td>1568</td>\n",
       "      <td>15</td>\n",
       "      <td>113207</td>\n",
       "      <td>_Abimbolaoshodi</td>\n",
       "      <td>0</td>\n",
       "    </tr>\n",
       "    <tr>\n",
       "      <th>509</th>\n",
       "      <td>509</td>\n",
       "      <td>769</td>\n",
       "      <td>9</td>\n",
       "      <td>53417</td>\n",
       "      <td>MrBankole</td>\n",
       "      <td>0</td>\n",
       "    </tr>\n",
       "    <tr>\n",
       "      <th>510</th>\n",
       "      <td>510</td>\n",
       "      <td>870</td>\n",
       "      <td>15</td>\n",
       "      <td>3465</td>\n",
       "      <td>MisterCompton92</td>\n",
       "      <td>0</td>\n",
       "    </tr>\n",
       "    <tr>\n",
       "      <th>511</th>\n",
       "      <td>511</td>\n",
       "      <td>232</td>\n",
       "      <td>7</td>\n",
       "      <td>2485</td>\n",
       "      <td>jvardon</td>\n",
       "      <td>0</td>\n",
       "    </tr>\n",
       "    <tr>\n",
       "      <th>512</th>\n",
       "      <td>512</td>\n",
       "      <td>97491</td>\n",
       "      <td>8</td>\n",
       "      <td>33887</td>\n",
       "      <td>WSHHFANS</td>\n",
       "      <td>1</td>\n",
       "    </tr>\n",
       "    <tr>\n",
       "      <th>513</th>\n",
       "      <td>513</td>\n",
       "      <td>516</td>\n",
       "      <td>10</td>\n",
       "      <td>15904</td>\n",
       "      <td>MAJORLAZER</td>\n",
       "      <td>0</td>\n",
       "    </tr>\n",
       "    <tr>\n",
       "      <th>514</th>\n",
       "      <td>514</td>\n",
       "      <td>5238</td>\n",
       "      <td>5</td>\n",
       "      <td>70683</td>\n",
       "      <td>diplo</td>\n",
       "      <td>0</td>\n",
       "    </tr>\n",
       "    <tr>\n",
       "      <th>515</th>\n",
       "      <td>515</td>\n",
       "      <td>187</td>\n",
       "      <td>6</td>\n",
       "      <td>0</td>\n",
       "      <td>hiunka</td>\n",
       "      <td>1</td>\n",
       "    </tr>\n",
       "    <tr>\n",
       "      <th>516</th>\n",
       "      <td>516</td>\n",
       "      <td>334</td>\n",
       "      <td>14</td>\n",
       "      <td>3209</td>\n",
       "      <td>CallMe_Bohnnie</td>\n",
       "      <td>0</td>\n",
       "    </tr>\n",
       "    <tr>\n",
       "      <th>517</th>\n",
       "      <td>517</td>\n",
       "      <td>398</td>\n",
       "      <td>13</td>\n",
       "      <td>15718</td>\n",
       "      <td>El_Don_Chichi</td>\n",
       "      <td>0</td>\n",
       "    </tr>\n",
       "    <tr>\n",
       "      <th>518</th>\n",
       "      <td>518</td>\n",
       "      <td>119</td>\n",
       "      <td>12</td>\n",
       "      <td>182747</td>\n",
       "      <td>TheEconomist</td>\n",
       "      <td>0</td>\n",
       "    </tr>\n",
       "    <tr>\n",
       "      <th>519</th>\n",
       "      <td>519</td>\n",
       "      <td>253</td>\n",
       "      <td>13</td>\n",
       "      <td>3543</td>\n",
       "      <td>maggierambles</td>\n",
       "      <td>0</td>\n",
       "    </tr>\n",
       "    <tr>\n",
       "      <th>520</th>\n",
       "      <td>520</td>\n",
       "      <td>166</td>\n",
       "      <td>10</td>\n",
       "      <td>13575</td>\n",
       "      <td>bini_magic</td>\n",
       "      <td>0</td>\n",
       "    </tr>\n",
       "    <tr>\n",
       "      <th>521</th>\n",
       "      <td>521</td>\n",
       "      <td>188</td>\n",
       "      <td>8</td>\n",
       "      <td>1389</td>\n",
       "      <td>feanyicy</td>\n",
       "      <td>0</td>\n",
       "    </tr>\n",
       "    <tr>\n",
       "      <th>522</th>\n",
       "      <td>522</td>\n",
       "      <td>611</td>\n",
       "      <td>6</td>\n",
       "      <td>6781</td>\n",
       "      <td>ljbans</td>\n",
       "      <td>0</td>\n",
       "    </tr>\n",
       "    <tr>\n",
       "      <th>523</th>\n",
       "      <td>523</td>\n",
       "      <td>190</td>\n",
       "      <td>8</td>\n",
       "      <td>1137</td>\n",
       "      <td>TofunwaA</td>\n",
       "      <td>0</td>\n",
       "    </tr>\n",
       "    <tr>\n",
       "      <th>524</th>\n",
       "      <td>524</td>\n",
       "      <td>1080</td>\n",
       "      <td>13</td>\n",
       "      <td>1768</td>\n",
       "      <td>LanreOyedotun</td>\n",
       "      <td>1</td>\n",
       "    </tr>\n",
       "    <tr>\n",
       "      <th>525</th>\n",
       "      <td>525</td>\n",
       "      <td>1015</td>\n",
       "      <td>14</td>\n",
       "      <td>21008</td>\n",
       "      <td>MelvinTaylorII</td>\n",
       "      <td>0</td>\n",
       "    </tr>\n",
       "    <tr>\n",
       "      <th>526</th>\n",
       "      <td>526</td>\n",
       "      <td>211</td>\n",
       "      <td>6</td>\n",
       "      <td>238</td>\n",
       "      <td>jwg15_</td>\n",
       "      <td>1</td>\n",
       "    </tr>\n",
       "    <tr>\n",
       "      <th>527</th>\n",
       "      <td>527</td>\n",
       "      <td>341</td>\n",
       "      <td>10</td>\n",
       "      <td>12621</td>\n",
       "      <td>ItsHimTega</td>\n",
       "      <td>0</td>\n",
       "    </tr>\n",
       "    <tr>\n",
       "      <th>528</th>\n",
       "      <td>528</td>\n",
       "      <td>1200</td>\n",
       "      <td>8</td>\n",
       "      <td>20827</td>\n",
       "      <td>dvmilola</td>\n",
       "      <td>0</td>\n",
       "    </tr>\n",
       "    <tr>\n",
       "      <th>529</th>\n",
       "      <td>529</td>\n",
       "      <td>131</td>\n",
       "      <td>6</td>\n",
       "      <td>54428</td>\n",
       "      <td>ManUtd</td>\n",
       "      <td>0</td>\n",
       "    </tr>\n",
       "    <tr>\n",
       "      <th>530</th>\n",
       "      <td>530</td>\n",
       "      <td>395</td>\n",
       "      <td>10</td>\n",
       "      <td>1311</td>\n",
       "      <td>Gjaimes007</td>\n",
       "      <td>0</td>\n",
       "    </tr>\n",
       "    <tr>\n",
       "      <th>531</th>\n",
       "      <td>531</td>\n",
       "      <td>771</td>\n",
       "      <td>7</td>\n",
       "      <td>2433</td>\n",
       "      <td>rasav21</td>\n",
       "      <td>1</td>\n",
       "    </tr>\n",
       "    <tr>\n",
       "      <th>532</th>\n",
       "      <td>532</td>\n",
       "      <td>335</td>\n",
       "      <td>13</td>\n",
       "      <td>4793</td>\n",
       "      <td>callmelizmael</td>\n",
       "      <td>0</td>\n",
       "    </tr>\n",
       "    <tr>\n",
       "      <th>533</th>\n",
       "      <td>533</td>\n",
       "      <td>482</td>\n",
       "      <td>13</td>\n",
       "      <td>8571</td>\n",
       "      <td>javierayala10</td>\n",
       "      <td>0</td>\n",
       "    </tr>\n",
       "  </tbody>\n",
       "</table>\n",
       "<p>534 rows × 6 columns</p>\n",
       "</div>"
      ],
      "text/plain": [
       "     Unnamed: 0  following  len_name  num_tweets      screen_name  pred\n",
       "0             0       1216        11       76808      Feliciaaa_O     0\n",
       "1             1        675        15       25223  CandaceTheAngel     0\n",
       "2             2       1779        14       52009   subomiplumptre     0\n",
       "3             3        674        13       30987    zachyofficial     0\n",
       "4             4        667         6       36703           rabois     0\n",
       "5             5       5300        15       19956  _DanielSinclair     0\n",
       "6             6        762         9       46316        OkiLegend     0\n",
       "7             7        292        13        3287    MakingCentsPC     0\n",
       "8             8        101        10       13167       Nia__imani     0\n",
       "9             9        327        11      129338      brainpicker     0\n",
       "10           10        100        11        4548      Slum2School     0\n",
       "11           11         43         8         117         itsnemie     0\n",
       "12           12        486        12       80859     wildhormoans     0\n",
       "13           13       1259         6        3079           temite     1\n",
       "14           14         43        10        2298       glory_osei     0\n",
       "15           15       2637         9        9162        CJFDillow     1\n",
       "16           16        671         7       22133          busanga     0\n",
       "17           17       1283        11       36660      Jaaytunechi     0\n",
       "18           18        324        14         736   NigeriaNumeric     0\n",
       "19           19        337        11       34270      LALAALAKIJA     0\n",
       "20           20        190         9        5957        _KBoateng     0\n",
       "21           21        454         8        5282         Bertdora     0\n",
       "22           22        968         8       65720         Its_Deji     0\n",
       "23           23        297         6       11806           toluL_     0\n",
       "24           24       2493        14       26985   dkskinjermaine     0\n",
       "25           25        394        15        4562  SophieChandauka     0\n",
       "26           26      19444         6          83           pmarca     1\n",
       "27           27        258        11          47      moni_owoade     1\n",
       "28           28        849        13       78214    BaldingsWorld     0\n",
       "29           29        285         7        7702          minkyxo     0\n",
       "..          ...        ...       ...         ...              ...   ...\n",
       "504         504        493        12        3106     Uduak_Ekanem     0\n",
       "505         505        268         9        2656        HibsAhmed     0\n",
       "506         506        422        15        8407  officialtemibtm     0\n",
       "507         507          3        12        1676     ChiliPeppers     0\n",
       "508         508       1568        15      113207  _Abimbolaoshodi     0\n",
       "509         509        769         9       53417        MrBankole     0\n",
       "510         510        870        15        3465  MisterCompton92     0\n",
       "511         511        232         7        2485          jvardon     0\n",
       "512         512      97491         8       33887         WSHHFANS     1\n",
       "513         513        516        10       15904       MAJORLAZER     0\n",
       "514         514       5238         5       70683            diplo     0\n",
       "515         515        187         6           0           hiunka     1\n",
       "516         516        334        14        3209   CallMe_Bohnnie     0\n",
       "517         517        398        13       15718    El_Don_Chichi     0\n",
       "518         518        119        12      182747     TheEconomist     0\n",
       "519         519        253        13        3543    maggierambles     0\n",
       "520         520        166        10       13575       bini_magic     0\n",
       "521         521        188         8        1389         feanyicy     0\n",
       "522         522        611         6        6781           ljbans     0\n",
       "523         523        190         8        1137         TofunwaA     0\n",
       "524         524       1080        13        1768    LanreOyedotun     1\n",
       "525         525       1015        14       21008   MelvinTaylorII     0\n",
       "526         526        211         6         238           jwg15_     1\n",
       "527         527        341        10       12621       ItsHimTega     0\n",
       "528         528       1200         8       20827         dvmilola     0\n",
       "529         529        131         6       54428           ManUtd     0\n",
       "530         530        395        10        1311       Gjaimes007     0\n",
       "531         531        771         7        2433          rasav21     1\n",
       "532         532        335        13        4793    callmelizmael     0\n",
       "533         533        482        13        8571    javierayala10     0\n",
       "\n",
       "[534 rows x 6 columns]"
      ]
     },
     "execution_count": 27,
     "metadata": {},
     "output_type": "execute_result"
    }
   ],
   "source": [
    "loye_data"
   ]
  },
  {
   "cell_type": "code",
   "execution_count": null,
   "metadata": {
    "collapsed": true
   },
   "outputs": [],
   "source": []
  }
 ],
 "metadata": {
  "kernelspec": {
   "display_name": "Python 3",
   "language": "python",
   "name": "python3"
  },
  "language_info": {
   "codemirror_mode": {
    "name": "ipython",
    "version": 3
   },
   "file_extension": ".py",
   "mimetype": "text/x-python",
   "name": "python",
   "nbconvert_exporter": "python",
   "pygments_lexer": "ipython3",
   "version": "3.6.3"
  }
 },
 "nbformat": 4,
 "nbformat_minor": 2
}
