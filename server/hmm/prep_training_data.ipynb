{
 "cells": [
  {
   "cell_type": "code",
   "execution_count": 24,
   "metadata": {
    "collapsed": true
   },
   "outputs": [],
   "source": [
    "import pandas as pd"
   ]
  },
  {
   "cell_type": "code",
   "execution_count": 25,
   "metadata": {},
   "outputs": [],
   "source": [
    "bots =pd.read_csv('content_polluters.txt', sep='\\t', lineterminator='\\n', header=None)"
   ]
  },
  {
   "cell_type": "code",
   "execution_count": 33,
   "metadata": {
    "collapsed": true
   },
   "outputs": [],
   "source": [
    "head = [\"user_id\",\"created\",\"collected\",\"following\",\"followers\",\"num_tweets\",\"len_name\", \"len_bio\"]"
   ]
  },
  {
   "cell_type": "code",
   "execution_count": 35,
   "metadata": {},
   "outputs": [
    {
     "data": {
      "text/plain": [
       "Index(['user_id', 'created', 'collected', 'following', 'followers',\n",
       "       'num_tweets', 'len_name', 'len_bio', 'bot'],\n",
       "      dtype='object')"
      ]
     },
     "execution_count": 35,
     "metadata": {},
     "output_type": "execute_result"
    }
   ],
   "source": [
    "bots.columns"
   ]
  },
  {
   "cell_type": "code",
   "execution_count": 28,
   "metadata": {},
   "outputs": [
    {
     "data": {
      "text/html": [
       "<div>\n",
       "<style scoped>\n",
       "    .dataframe tbody tr th:only-of-type {\n",
       "        vertical-align: middle;\n",
       "    }\n",
       "\n",
       "    .dataframe tbody tr th {\n",
       "        vertical-align: top;\n",
       "    }\n",
       "\n",
       "    .dataframe thead th {\n",
       "        text-align: right;\n",
       "    }\n",
       "</style>\n",
       "<table border=\"1\" class=\"dataframe\">\n",
       "  <thead>\n",
       "    <tr style=\"text-align: right;\">\n",
       "      <th></th>\n",
       "      <th>user_id</th>\n",
       "      <th>created</th>\n",
       "      <th>collected</th>\n",
       "      <th>following</th>\n",
       "      <th>followers</th>\n",
       "      <th>num_tweets</th>\n",
       "      <th>len_name</th>\n",
       "      <th>len_bio</th>\n",
       "    </tr>\n",
       "  </thead>\n",
       "  <tbody>\n",
       "    <tr>\n",
       "      <th>0</th>\n",
       "      <td>6301</td>\n",
       "      <td>2006-09-18 01:07:50</td>\n",
       "      <td>2010-01-17 20:38:25</td>\n",
       "      <td>3269</td>\n",
       "      <td>3071</td>\n",
       "      <td>861</td>\n",
       "      <td>8</td>\n",
       "      <td>132</td>\n",
       "    </tr>\n",
       "    <tr>\n",
       "      <th>1</th>\n",
       "      <td>10836</td>\n",
       "      <td>2006-10-27 14:38:04</td>\n",
       "      <td>2010-06-18 03:35:34</td>\n",
       "      <td>1949</td>\n",
       "      <td>793</td>\n",
       "      <td>226</td>\n",
       "      <td>9</td>\n",
       "      <td>134</td>\n",
       "    </tr>\n",
       "    <tr>\n",
       "      <th>2</th>\n",
       "      <td>10997</td>\n",
       "      <td>2006-10-29 09:50:38</td>\n",
       "      <td>2010-04-24 01:12:40</td>\n",
       "      <td>1119</td>\n",
       "      <td>9644</td>\n",
       "      <td>38674</td>\n",
       "      <td>12</td>\n",
       "      <td>158</td>\n",
       "    </tr>\n",
       "    <tr>\n",
       "      <th>3</th>\n",
       "      <td>633293</td>\n",
       "      <td>2007-01-14 12:40:10</td>\n",
       "      <td>2010-01-24 11:59:38</td>\n",
       "      <td>2174</td>\n",
       "      <td>6029</td>\n",
       "      <td>12718</td>\n",
       "      <td>11</td>\n",
       "      <td>121</td>\n",
       "    </tr>\n",
       "    <tr>\n",
       "      <th>4</th>\n",
       "      <td>717883</td>\n",
       "      <td>2007-01-27 22:14:18</td>\n",
       "      <td>2010-02-06 06:25:58</td>\n",
       "      <td>7731</td>\n",
       "      <td>7029</td>\n",
       "      <td>873</td>\n",
       "      <td>6</td>\n",
       "      <td>70</td>\n",
       "    </tr>\n",
       "  </tbody>\n",
       "</table>\n",
       "</div>"
      ],
      "text/plain": [
       "   user_id              created            collected  following  followers  \\\n",
       "0     6301  2006-09-18 01:07:50  2010-01-17 20:38:25       3269       3071   \n",
       "1    10836  2006-10-27 14:38:04  2010-06-18 03:35:34       1949        793   \n",
       "2    10997  2006-10-29 09:50:38  2010-04-24 01:12:40       1119       9644   \n",
       "3   633293  2007-01-14 12:40:10  2010-01-24 11:59:38       2174       6029   \n",
       "4   717883  2007-01-27 22:14:18  2010-02-06 06:25:58       7731       7029   \n",
       "\n",
       "   num_tweets  len_name  len_bio  \n",
       "0         861         8      132  \n",
       "1         226         9      134  \n",
       "2       38674        12      158  \n",
       "3       12718        11      121  \n",
       "4         873         6       70  "
      ]
     },
     "execution_count": 28,
     "metadata": {},
     "output_type": "execute_result"
    }
   ],
   "source": [
    "bots.head()"
   ]
  },
  {
   "cell_type": "code",
   "execution_count": 29,
   "metadata": {
    "collapsed": true
   },
   "outputs": [],
   "source": [
    "bots[\"bot\"] = 1"
   ]
  },
  {
   "cell_type": "code",
   "execution_count": 30,
   "metadata": {
    "scrolled": true
   },
   "outputs": [
    {
     "data": {
      "text/html": [
       "<div>\n",
       "<style scoped>\n",
       "    .dataframe tbody tr th:only-of-type {\n",
       "        vertical-align: middle;\n",
       "    }\n",
       "\n",
       "    .dataframe tbody tr th {\n",
       "        vertical-align: top;\n",
       "    }\n",
       "\n",
       "    .dataframe thead th {\n",
       "        text-align: right;\n",
       "    }\n",
       "</style>\n",
       "<table border=\"1\" class=\"dataframe\">\n",
       "  <thead>\n",
       "    <tr style=\"text-align: right;\">\n",
       "      <th></th>\n",
       "      <th>user_id</th>\n",
       "      <th>created</th>\n",
       "      <th>collected</th>\n",
       "      <th>following</th>\n",
       "      <th>followers</th>\n",
       "      <th>num_tweets</th>\n",
       "      <th>len_name</th>\n",
       "      <th>len_bio</th>\n",
       "      <th>bot</th>\n",
       "    </tr>\n",
       "  </thead>\n",
       "  <tbody>\n",
       "    <tr>\n",
       "      <th>0</th>\n",
       "      <td>6301</td>\n",
       "      <td>2006-09-18 01:07:50</td>\n",
       "      <td>2010-01-17 20:38:25</td>\n",
       "      <td>3269</td>\n",
       "      <td>3071</td>\n",
       "      <td>861</td>\n",
       "      <td>8</td>\n",
       "      <td>132</td>\n",
       "      <td>1</td>\n",
       "    </tr>\n",
       "    <tr>\n",
       "      <th>1</th>\n",
       "      <td>10836</td>\n",
       "      <td>2006-10-27 14:38:04</td>\n",
       "      <td>2010-06-18 03:35:34</td>\n",
       "      <td>1949</td>\n",
       "      <td>793</td>\n",
       "      <td>226</td>\n",
       "      <td>9</td>\n",
       "      <td>134</td>\n",
       "      <td>1</td>\n",
       "    </tr>\n",
       "    <tr>\n",
       "      <th>2</th>\n",
       "      <td>10997</td>\n",
       "      <td>2006-10-29 09:50:38</td>\n",
       "      <td>2010-04-24 01:12:40</td>\n",
       "      <td>1119</td>\n",
       "      <td>9644</td>\n",
       "      <td>38674</td>\n",
       "      <td>12</td>\n",
       "      <td>158</td>\n",
       "      <td>1</td>\n",
       "    </tr>\n",
       "    <tr>\n",
       "      <th>3</th>\n",
       "      <td>633293</td>\n",
       "      <td>2007-01-14 12:40:10</td>\n",
       "      <td>2010-01-24 11:59:38</td>\n",
       "      <td>2174</td>\n",
       "      <td>6029</td>\n",
       "      <td>12718</td>\n",
       "      <td>11</td>\n",
       "      <td>121</td>\n",
       "      <td>1</td>\n",
       "    </tr>\n",
       "    <tr>\n",
       "      <th>4</th>\n",
       "      <td>717883</td>\n",
       "      <td>2007-01-27 22:14:18</td>\n",
       "      <td>2010-02-06 06:25:58</td>\n",
       "      <td>7731</td>\n",
       "      <td>7029</td>\n",
       "      <td>873</td>\n",
       "      <td>6</td>\n",
       "      <td>70</td>\n",
       "      <td>1</td>\n",
       "    </tr>\n",
       "  </tbody>\n",
       "</table>\n",
       "</div>"
      ],
      "text/plain": [
       "   user_id              created            collected  following  followers  \\\n",
       "0     6301  2006-09-18 01:07:50  2010-01-17 20:38:25       3269       3071   \n",
       "1    10836  2006-10-27 14:38:04  2010-06-18 03:35:34       1949        793   \n",
       "2    10997  2006-10-29 09:50:38  2010-04-24 01:12:40       1119       9644   \n",
       "3   633293  2007-01-14 12:40:10  2010-01-24 11:59:38       2174       6029   \n",
       "4   717883  2007-01-27 22:14:18  2010-02-06 06:25:58       7731       7029   \n",
       "\n",
       "   num_tweets  len_name  len_bio  bot  \n",
       "0         861         8      132    1  \n",
       "1         226         9      134    1  \n",
       "2       38674        12      158    1  \n",
       "3       12718        11      121    1  \n",
       "4         873         6       70    1  "
      ]
     },
     "execution_count": 30,
     "metadata": {},
     "output_type": "execute_result"
    }
   ],
   "source": [
    "bots.head()"
   ]
  },
  {
   "cell_type": "code",
   "execution_count": 36,
   "metadata": {
    "collapsed": true
   },
   "outputs": [],
   "source": [
    "users =pd.read_csv('legit.txt', sep='\\t', lineterminator='\\n', header=None)"
   ]
  },
  {
   "cell_type": "code",
   "execution_count": 37,
   "metadata": {
    "collapsed": true
   },
   "outputs": [],
   "source": [
    "users.columns = head"
   ]
  },
  {
   "cell_type": "code",
   "execution_count": 38,
   "metadata": {
    "collapsed": true
   },
   "outputs": [],
   "source": [
    "users[\"bot\"] = 0"
   ]
  },
  {
   "cell_type": "code",
   "execution_count": 39,
   "metadata": {},
   "outputs": [
    {
     "data": {
      "text/html": [
       "<div>\n",
       "<style scoped>\n",
       "    .dataframe tbody tr th:only-of-type {\n",
       "        vertical-align: middle;\n",
       "    }\n",
       "\n",
       "    .dataframe tbody tr th {\n",
       "        vertical-align: top;\n",
       "    }\n",
       "\n",
       "    .dataframe thead th {\n",
       "        text-align: right;\n",
       "    }\n",
       "</style>\n",
       "<table border=\"1\" class=\"dataframe\">\n",
       "  <thead>\n",
       "    <tr style=\"text-align: right;\">\n",
       "      <th></th>\n",
       "      <th>user_id</th>\n",
       "      <th>created</th>\n",
       "      <th>collected</th>\n",
       "      <th>following</th>\n",
       "      <th>followers</th>\n",
       "      <th>num_tweets</th>\n",
       "      <th>len_name</th>\n",
       "      <th>len_bio</th>\n",
       "      <th>bot</th>\n",
       "    </tr>\n",
       "  </thead>\n",
       "  <tbody>\n",
       "    <tr>\n",
       "      <th>0</th>\n",
       "      <td>614</td>\n",
       "      <td>2006-07-13 15:30:05</td>\n",
       "      <td>2009-11-20 23:56:21</td>\n",
       "      <td>510</td>\n",
       "      <td>350</td>\n",
       "      <td>3265</td>\n",
       "      <td>10</td>\n",
       "      <td>34</td>\n",
       "      <td>0</td>\n",
       "    </tr>\n",
       "    <tr>\n",
       "      <th>1</th>\n",
       "      <td>1038</td>\n",
       "      <td>2006-07-15 16:12:15</td>\n",
       "      <td>2009-11-16 05:12:11</td>\n",
       "      <td>304</td>\n",
       "      <td>443</td>\n",
       "      <td>4405</td>\n",
       "      <td>7</td>\n",
       "      <td>156</td>\n",
       "      <td>0</td>\n",
       "    </tr>\n",
       "    <tr>\n",
       "      <th>2</th>\n",
       "      <td>1437</td>\n",
       "      <td>2006-07-16 12:29:24</td>\n",
       "      <td>2009-11-16 16:25:12</td>\n",
       "      <td>45</td>\n",
       "      <td>73</td>\n",
       "      <td>725</td>\n",
       "      <td>6</td>\n",
       "      <td>37</td>\n",
       "      <td>0</td>\n",
       "    </tr>\n",
       "    <tr>\n",
       "      <th>3</th>\n",
       "      <td>2615</td>\n",
       "      <td>2006-07-19 23:23:55</td>\n",
       "      <td>2009-11-27 18:34:36</td>\n",
       "      <td>211</td>\n",
       "      <td>230</td>\n",
       "      <td>211</td>\n",
       "      <td>7</td>\n",
       "      <td>0</td>\n",
       "      <td>0</td>\n",
       "    </tr>\n",
       "    <tr>\n",
       "      <th>4</th>\n",
       "      <td>3148</td>\n",
       "      <td>2006-07-26 14:17:22</td>\n",
       "      <td>2009-11-20 17:35:18</td>\n",
       "      <td>7346</td>\n",
       "      <td>7244</td>\n",
       "      <td>11438</td>\n",
       "      <td>8</td>\n",
       "      <td>97</td>\n",
       "      <td>0</td>\n",
       "    </tr>\n",
       "  </tbody>\n",
       "</table>\n",
       "</div>"
      ],
      "text/plain": [
       "   user_id              created            collected  following  followers  \\\n",
       "0      614  2006-07-13 15:30:05  2009-11-20 23:56:21        510        350   \n",
       "1     1038  2006-07-15 16:12:15  2009-11-16 05:12:11        304        443   \n",
       "2     1437  2006-07-16 12:29:24  2009-11-16 16:25:12         45         73   \n",
       "3     2615  2006-07-19 23:23:55  2009-11-27 18:34:36        211        230   \n",
       "4     3148  2006-07-26 14:17:22  2009-11-20 17:35:18       7346       7244   \n",
       "\n",
       "   num_tweets  len_name  len_bio  bot  \n",
       "0        3265        10       34    0  \n",
       "1        4405         7      156    0  \n",
       "2         725         6       37    0  \n",
       "3         211         7        0    0  \n",
       "4       11438         8       97    0  "
      ]
     },
     "execution_count": 39,
     "metadata": {},
     "output_type": "execute_result"
    }
   ],
   "source": [
    "users.head()"
   ]
  },
  {
   "cell_type": "code",
   "execution_count": 41,
   "metadata": {},
   "outputs": [],
   "source": [
    "training = pd.concat([bots,users])"
   ]
  },
  {
   "cell_type": "code",
   "execution_count": 43,
   "metadata": {},
   "outputs": [
    {
     "data": {
      "text/plain": [
       "41499"
      ]
     },
     "execution_count": 43,
     "metadata": {},
     "output_type": "execute_result"
    }
   ],
   "source": [
    "len(training)"
   ]
  },
  {
   "cell_type": "code",
   "execution_count": 45,
   "metadata": {
    "collapsed": true
   },
   "outputs": [],
   "source": [
    "training = training.sample(frac=1)"
   ]
  },
  {
   "cell_type": "code",
   "execution_count": 46,
   "metadata": {},
   "outputs": [
    {
     "data": {
      "text/plain": [
       "41499"
      ]
     },
     "execution_count": 46,
     "metadata": {},
     "output_type": "execute_result"
    }
   ],
   "source": [
    "len(training)"
   ]
  },
  {
   "cell_type": "code",
   "execution_count": 47,
   "metadata": {},
   "outputs": [
    {
     "data": {
      "text/html": [
       "<div>\n",
       "<style scoped>\n",
       "    .dataframe tbody tr th:only-of-type {\n",
       "        vertical-align: middle;\n",
       "    }\n",
       "\n",
       "    .dataframe tbody tr th {\n",
       "        vertical-align: top;\n",
       "    }\n",
       "\n",
       "    .dataframe thead th {\n",
       "        text-align: right;\n",
       "    }\n",
       "</style>\n",
       "<table border=\"1\" class=\"dataframe\">\n",
       "  <thead>\n",
       "    <tr style=\"text-align: right;\">\n",
       "      <th></th>\n",
       "      <th>user_id</th>\n",
       "      <th>created</th>\n",
       "      <th>collected</th>\n",
       "      <th>following</th>\n",
       "      <th>followers</th>\n",
       "      <th>num_tweets</th>\n",
       "      <th>len_name</th>\n",
       "      <th>len_bio</th>\n",
       "      <th>bot</th>\n",
       "    </tr>\n",
       "  </thead>\n",
       "  <tbody>\n",
       "    <tr>\n",
       "      <th>4606</th>\n",
       "      <td>48936207</td>\n",
       "      <td>2009-06-20 00:27:33</td>\n",
       "      <td>2010-03-03 14:11:50</td>\n",
       "      <td>1747</td>\n",
       "      <td>730</td>\n",
       "      <td>57</td>\n",
       "      <td>8</td>\n",
       "      <td>86</td>\n",
       "      <td>1</td>\n",
       "    </tr>\n",
       "    <tr>\n",
       "      <th>4659</th>\n",
       "      <td>22419996</td>\n",
       "      <td>2009-03-01 17:09:38</td>\n",
       "      <td>2009-11-13 23:46:03</td>\n",
       "      <td>88</td>\n",
       "      <td>24</td>\n",
       "      <td>158</td>\n",
       "      <td>12</td>\n",
       "      <td>14</td>\n",
       "      <td>0</td>\n",
       "    </tr>\n",
       "    <tr>\n",
       "      <th>4056</th>\n",
       "      <td>43102283</td>\n",
       "      <td>2009-05-28 07:49:30</td>\n",
       "      <td>2010-05-12 04:01:49</td>\n",
       "      <td>2139</td>\n",
       "      <td>2142</td>\n",
       "      <td>493</td>\n",
       "      <td>9</td>\n",
       "      <td>129</td>\n",
       "      <td>1</td>\n",
       "    </tr>\n",
       "    <tr>\n",
       "      <th>14736</th>\n",
       "      <td>68324565</td>\n",
       "      <td>2009-08-23 23:16:49</td>\n",
       "      <td>2009-11-17 19:00:27</td>\n",
       "      <td>11</td>\n",
       "      <td>32</td>\n",
       "      <td>100</td>\n",
       "      <td>10</td>\n",
       "      <td>0</td>\n",
       "      <td>0</td>\n",
       "    </tr>\n",
       "    <tr>\n",
       "      <th>2025</th>\n",
       "      <td>15975177</td>\n",
       "      <td>2008-08-24 20:13:13</td>\n",
       "      <td>2009-11-15 14:25:32</td>\n",
       "      <td>348</td>\n",
       "      <td>969</td>\n",
       "      <td>8710</td>\n",
       "      <td>13</td>\n",
       "      <td>151</td>\n",
       "      <td>0</td>\n",
       "    </tr>\n",
       "  </tbody>\n",
       "</table>\n",
       "</div>"
      ],
      "text/plain": [
       "        user_id              created            collected  following  \\\n",
       "4606   48936207  2009-06-20 00:27:33  2010-03-03 14:11:50       1747   \n",
       "4659   22419996  2009-03-01 17:09:38  2009-11-13 23:46:03         88   \n",
       "4056   43102283  2009-05-28 07:49:30  2010-05-12 04:01:49       2139   \n",
       "14736  68324565  2009-08-23 23:16:49  2009-11-17 19:00:27         11   \n",
       "2025   15975177  2008-08-24 20:13:13  2009-11-15 14:25:32        348   \n",
       "\n",
       "       followers  num_tweets  len_name  len_bio  bot  \n",
       "4606         730          57         8       86    1  \n",
       "4659          24         158        12       14    0  \n",
       "4056        2142         493         9      129    1  \n",
       "14736         32         100        10        0    0  \n",
       "2025         969        8710        13      151    0  "
      ]
     },
     "execution_count": 47,
     "metadata": {},
     "output_type": "execute_result"
    }
   ],
   "source": [
    "training.head()"
   ]
  },
  {
   "cell_type": "code",
   "execution_count": 48,
   "metadata": {
    "collapsed": true
   },
   "outputs": [],
   "source": [
    "with open('training.csv','w') as fp:\n",
    "    training.to_csv(fp)"
   ]
  },
  {
   "cell_type": "code",
   "execution_count": null,
   "metadata": {
    "collapsed": true
   },
   "outputs": [],
   "source": []
  }
 ],
 "metadata": {
  "kernelspec": {
   "display_name": "Python 3",
   "language": "python",
   "name": "python3"
  },
  "language_info": {
   "codemirror_mode": {
    "name": "ipython",
    "version": 3
   },
   "file_extension": ".py",
   "mimetype": "text/x-python",
   "name": "python",
   "nbconvert_exporter": "python",
   "pygments_lexer": "ipython3",
   "version": "3.6.3"
  }
 },
 "nbformat": 4,
 "nbformat_minor": 2
}
